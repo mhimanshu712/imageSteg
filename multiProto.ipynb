{
 "cells": [
  {
   "cell_type": "code",
   "execution_count": 62,
   "metadata": {},
   "outputs": [],
   "source": [
    "import numpy as np\n",
    "from PIL import Image\n",
    "import matplotlib.pyplot as plt\n",
    "\n",
    "lis = []\n",
    "\n",
    "for i in range(7,-1,-1):\n",
    "    res = b'\\x01'[0]<<i\n",
    "    lis.append(res)"
   ]
  },
  {
   "cell_type": "code",
   "execution_count": 144,
   "metadata": {},
   "outputs": [],
   "source": [
    "def write_img(img,msg):\n",
    "    s_len = len(msg)\n",
    "    f_string = '^START:' + str(s_len)+ ':' + msg\n",
    "    str_len = len(f_string)\n",
    "    sa,sb,sc = img.shape\n",
    "    cchar, cbit = 0,0\n",
    "    \n",
    "    for c in range(sc):\n",
    "        for b in range(sb):\n",
    "            for a in range(sa):\n",
    "                if cchar < str_len:\n",
    "                    s = f_string[cchar]\n",
    "                    i = lis[cbit]\n",
    "                    \n",
    "                    if ord(s) & i == 0:\n",
    "                        # Check if the first bit is not zero\n",
    "                        if img[a][b][c]%2 != 0:\n",
    "                            img[a][b][c] -= 1\n",
    "                    else:\n",
    "                        #check if first bit is not one\n",
    "                        if img[a][b][c]%2 == 0:\n",
    "                            img[a][b][c] += 1\n",
    "                            \n",
    "                    if cbit == 7:\n",
    "                        cbit = 0\n",
    "                        cchar += 1\n",
    "                    else:\n",
    "                        cbit += 1\n",
    "                        \n",
    "                else:\n",
    "                    return\n",
    "                "
   ]
  },
  {
   "cell_type": "code",
   "execution_count": 254,
   "metadata": {},
   "outputs": [],
   "source": [
    "def read_imgn(img,sa,sb,sc,n):\n",
    "    str = []\n",
    "    cn = 0\n",
    "    n = n*8\n",
    "    ea,eb,ec = img.shape\n",
    "    ch = 0\n",
    "    \n",
    "    for c in range(ec):\n",
    "        for b in range(eb):\n",
    "            for a in range(ea):\n",
    "                if cn < n:\n",
    "                    num = img[a][b][c]\n",
    "                    if num%2 != 0:\n",
    "                        ch += lis[cn%8]\n",
    "                    if cn%8 == 7:\n",
    "                        str.append(chr(ch))\n",
    "                        ch = 0\n",
    "                    cn += 1\n",
    "                else:\n",
    "                    return ''.join(str)\n",
    "                \n",
    "    return ''.join(str)\n",
    "\n",
    "def read_img(img):\n",
    "    # Check if our tag is present\n",
    "    res = read_imgn(img,0,0,0,7)\n",
    "    if res != \"^START:\":\n",
    "        print(\"No Message Here!  \",res)\n",
    "        return \"\"\n",
    "    \n",
    "    #Read number of chars\n",
    "    a,b,c = 8*7,0,0\n",
    "    dig = []\n",
    "    flag = 0\n",
    "    for i in range(100):\n",
    "        if flag == 1:\n",
    "            break\n",
    "        ch = 0\n",
    "        for j in lis:\n",
    "            num = img[a][b][c]\n",
    "            if num%2 != 0:\n",
    "                ch += j\n",
    "            a += 1\n",
    "        if ch == ord(':'):\n",
    "            flag = 1\n",
    "            break\n",
    "        else:\n",
    "            dig.append(chr(ch))\n",
    "            \n",
    "    \n",
    "    # read message\n",
    "    diglen = len(dig)\n",
    "    dig = int(''.join(dig))\n",
    "    print('Total chars: ',dig)\n",
    "    res = read_imgn(img,0,0,0,dig+8+diglen)\n",
    "    return res[8+diglen:]"
   ]
  },
  {
   "cell_type": "code",
   "execution_count": 262,
   "metadata": {},
   "outputs": [
    {
     "name": "stdout",
     "output_type": "stream",
     "text": [
      "Total chars:  38\n",
      "hello world oops image i mean,\n"
     ]
    }
   ],
   "source": [
    "mat = np.zeros((80,2,2),np.int8)\n",
    "write_img(mat,\"hello world oops image i mean, get it?\")\n",
    "res = read_img(mat)\n",
    "print(res)"
   ]
  },
  {
   "cell_type": "code",
   "execution_count": 264,
   "metadata": {},
   "outputs": [
    {
     "name": "stdout",
     "output_type": "stream",
     "text": [
      "0 1 0 1 1 1 1 0 0 1 0 1 0 0 1 1 0 1 0 1 0 1 0 0 0 1 0 0 0 0 0 1 0 1 0 1 0 0 1 0 0 1 0 1 0 1 0 0 0 0 1 1 1 0 1 0 0 0 1 1 0 0 1 1 0 0 1 1 1 0 0 0 0 0 1 1 1 0 1 0  \n",
      "0 1 1 0 1 0 0 0 0 1 1 0 0 1 0 1 0 1 1 0 1 1 0 0 0 1 1 0 1 1 0 0 0 1 1 0 1 1 1 1 0 0 1 0 0 0 0 0 0 1 1 1 0 1 1 1 0 1 1 0 1 1 1 1 0 1 1 1 0 0 1 0 0 1 1 0 1 1 0 0  \n",
      " -----\n",
      "0 1 1 0 0 1 0 0 0 0 1 0 0 0 0 0 0 1 1 0 1 1 1 1 0 1 1 0 1 1 1 1 0 1 1 1 0 0 0 0 0 1 1 1 0 0 1 1 0 0 1 0 0 0 0 0 0 1 1 0 1 0 0 1 0 1 1 0 1 1 0 1 0 1 1 0 0 0 0 1  \n",
      "0 1 1 0 0 1 1 1 0 1 1 0 0 1 0 1 0 0 1 0 0 0 0 0 0 1 1 0 1 0 0 1 0 0 1 0 0 0 0 0 0 1 1 0 1 1 0 1 0 1 1 0 0 1 0 1 0 1 1 0 0 0 0 1 0 1 1 0 1 1 1 0 0 0 1 0 1 1 0 0  \n",
      " -----\n"
     ]
    }
   ],
   "source": [
    "for z in range(2):\n",
    "    for y in range(2):\n",
    "        for x in range(80):\n",
    "            print(mat[x][y][z], end =' ')\n",
    "        print(\" \")\n",
    "    print(\" -----\")\n",
    "            "
   ]
  }
 ],
 "metadata": {
  "kernelspec": {
   "display_name": "Python 3",
   "language": "python",
   "name": "python3"
  },
  "language_info": {
   "codemirror_mode": {
    "name": "ipython",
    "version": 3
   },
   "file_extension": ".py",
   "mimetype": "text/x-python",
   "name": "python",
   "nbconvert_exporter": "python",
   "pygments_lexer": "ipython3",
   "version": "3.7.6"
  }
 },
 "nbformat": 4,
 "nbformat_minor": 4
}
