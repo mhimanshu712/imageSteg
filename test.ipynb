{
 "cells": [
  {
   "cell_type": "code",
   "execution_count": 47,
   "metadata": {},
   "outputs": [
    {
     "name": "stdout",
     "output_type": "stream",
     "text": [
      "[128, 64, 32, 16, 8, 4, 2, 1]\n"
     ]
    }
   ],
   "source": [
    "import numpy as np\n",
    "from PIL import Image\n",
    "\n",
    "lis = []\n",
    "\n",
    "for i in range(7,-1,-1):\n",
    "    res = b'\\x01'[0]<<i\n",
    "    lis.append(res)\n",
    "    \n",
    "print(lis)"
   ]
  },
  {
   "cell_type": "code",
   "execution_count": 48,
   "metadata": {},
   "outputs": [],
   "source": [
    "def spit(num):\n",
    "    for i in lis:\n",
    "        if num & i == 0:\n",
    "            print(0,end=' ')\n",
    "        else:\n",
    "            print(1,end=' ')\n",
    "    print(\"\")"
   ]
  },
  {
   "cell_type": "code",
   "execution_count": 53,
   "metadata": {},
   "outputs": [
    {
     "name": "stdout",
     "output_type": "stream",
     "text": [
      "0 1 0 0 1 0 0 0 \n",
      "0 1 1 0 0 1 0 1 \n",
      "0 1 1 0 1 1 0 0 \n",
      "0 1 1 0 1 1 0 0 \n",
      "0 1 1 0 1 1 1 1 \n",
      "0 0 1 0 0 0 0 0 \n",
      "0 1 1 1 0 1 1 1 \n",
      "0 1 1 0 1 1 1 1 \n",
      "0 1 1 1 0 0 1 0 \n",
      "0 1 1 0 1 1 0 0 \n",
      "0 1 1 0 0 1 0 0 \n"
     ]
    }
   ],
   "source": [
    "by = 'Hello world'\n",
    "for i in by:\n",
    "    spit(ord(i))"
   ]
  },
  {
   "cell_type": "code",
   "execution_count": 72,
   "metadata": {},
   "outputs": [
    {
     "data": {
      "text/plain": [
       "'1'"
      ]
     },
     "execution_count": 72,
     "metadata": {},
     "output_type": "execute_result"
    }
   ],
   "source": [
    "pic = Image.open('pup.jpg')\n",
    "arr = np.asarray(pic)\n",
    "arr.shape"
   ]
  },
  {
   "cell_type": "code",
   "execution_count": 105,
   "metadata": {},
   "outputs": [],
   "source": [
    "s_string = 'hello'\n",
    "e_string = ':^DATA:END'\n",
    "\n",
    "def write_img(img):\n",
    "    #a,b,c = img.shape\n",
    "    b=0\n",
    "    \n",
    "    for s in s_string:\n",
    "        for i in lis:\n",
    "            if ord(s) & i == 0:\n",
    "                # Check if the first bit is not zero\n",
    "                if img[0][b][0]%2 != 0:\n",
    "                    img[0][b][0] += 1\n",
    "            else:\n",
    "                #check if first bit is not one\n",
    "                if img[0][b][0]%2 == 0:\n",
    "                    img[0][b][0] += 1\n",
    "            b += 1"
   ]
  },
  {
   "cell_type": "code",
   "execution_count": 106,
   "metadata": {},
   "outputs": [],
   "source": [
    "def read_img(img):\n",
    "    b = 0\n",
    "    str = []\n",
    "    \n",
    "    for i in range(5):\n",
    "        ch = 0\n",
    "        for j in lis:\n",
    "            num = arr[0][b][0]\n",
    "            if num%2 != 0:\n",
    "                ch += j\n",
    "            b += 1\n",
    "        print(ch)\n",
    "        str.append(chr(ch))\n",
    "    \n",
    "    print(str)\n",
    "        "
   ]
  },
  {
   "cell_type": "code",
   "execution_count": 115,
   "metadata": {},
   "outputs": [
    {
     "name": "stdout",
     "output_type": "stream",
     "text": [
      "104\n",
      "101\n",
      "108\n",
      "108\n",
      "111\n",
      "['h', 'e', 'l', 'l', 'o']\n"
     ]
    }
   ],
   "source": [
    "arr = np.zeros((1,50,1),np.int8)+8\n",
    "write_img(arr)\n",
    "read_img(arr)\n"
   ]
  },
  {
   "cell_type": "code",
   "execution_count": 116,
   "metadata": {},
   "outputs": [
    {
     "name": "stdout",
     "output_type": "stream",
     "text": [
      "[8 9 9 8 9 8 8 8]\n",
      "[8 9 9 8 8 9 8 9]\n",
      "[8 9 9 8 9 9 8 8]\n"
     ]
    }
   ],
   "source": [
    "print(arr[0,:8,0])\n",
    "print(arr[0,8:16,0])\n",
    "print(arr[0,16:24,0])"
   ]
  },
  {
   "cell_type": "code",
   "execution_count": null,
   "metadata": {},
   "outputs": [],
   "source": []
  }
 ],
 "metadata": {
  "kernelspec": {
   "display_name": "Python 3",
   "language": "python",
   "name": "python3"
  },
  "language_info": {
   "codemirror_mode": {
    "name": "ipython",
    "version": 3
   },
   "file_extension": ".py",
   "mimetype": "text/x-python",
   "name": "python",
   "nbconvert_exporter": "python",
   "pygments_lexer": "ipython3",
   "version": "3.7.6"
  }
 },
 "nbformat": 4,
 "nbformat_minor": 4
}
